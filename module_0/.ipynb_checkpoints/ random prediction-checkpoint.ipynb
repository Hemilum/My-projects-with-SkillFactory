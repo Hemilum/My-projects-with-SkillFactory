{
 "cells": [
  {
   "cell_type": "code",
   "execution_count": 23,
   "metadata": {},
   "outputs": [
    {
     "name": "stdout",
     "output_type": "stream",
     "text": [
      "Ваш алгоритм угадывает число в среднем за 5 попыток\n"
     ]
    },
    {
     "data": {
      "text/plain": [
       "5"
      ]
     },
     "execution_count": 23,
     "metadata": {},
     "output_type": "execute_result"
    }
   ],
   "source": [
    "import numpy as np\n",
    "\n",
    "def score_game(game_core):\n",
    "    '''Запускаем игру 1000 раз, чтобы узнать, как быстро игра угадывает число'''\n",
    "    count_ls = []\n",
    "    np.random.seed(1)  # фиксируем RANDOM SEED, чтобы ваш эксперимент был воспроизводим!\n",
    "    random_array = np.random.randint(1,101, size=(1000))\n",
    "    for number in random_array:\n",
    "        count_ls.append(game_core(number))\n",
    "    score = int(np.mean(count_ls))\n",
    "    print(f\"Ваш алгоритм угадывает число в среднем за {score} попыток\")\n",
    "    return(score)\n",
    "\n",
    "\n",
    "def game_core_v3(number):\n",
    "    \n",
    "    # задаем границы интервала в виде переменных и для первой итерации выбираем середину отрезка.\n",
    "    \n",
    "    count = 1\n",
    "    low_value = 1 \n",
    "    high_value = 101\n",
    "    predict = 50\n",
    "      \n",
    "    # в цикле сравниваем загаданное число с predict, присваиваем значение predict одной из границ интервала\n",
    "    # и вычисляем новый predict, как середину уточненного интервала. \n",
    "    # predict у нас принудительно integer, чтобы не допустить дробного значения и зацикливания. \n",
    "    \n",
    "    while number != predict:\n",
    "        count+=1\n",
    "        \n",
    "        if number > predict: \n",
    "            low_value = predict\n",
    "            predict = int((high_value + low_value) / 2)\n",
    "            \n",
    "        elif number < predict: \n",
    "            high_value = predict\n",
    "            predict = int((high_value + low_value) / 2)\n",
    "            \n",
    "    return(count) # выход из цикла, если угадали\n",
    "\n",
    "score_game(game_core_v3)"
   ]
  }
 ],
 "metadata": {
  "kernelspec": {
   "display_name": "Python 3",
   "language": "python",
   "name": "python3"
  },
  "language_info": {
   "codemirror_mode": {
    "name": "ipython",
    "version": 3
   },
   "file_extension": ".py",
   "mimetype": "text/x-python",
   "name": "python",
   "nbconvert_exporter": "python",
   "pygments_lexer": "ipython3",
   "version": "3.7.6"
  }
 },
 "nbformat": 4,
 "nbformat_minor": 4
}
